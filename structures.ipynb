{
 "cells": [
  {
   "cell_type": "markdown",
   "metadata": {},
   "source": [
    "Алгоритмические и прикладные задачи\n",
    "\n",
    "1. линейный поиск\n",
    "2. бинарный поиск\n",
    "3. быстрая сортировка\n",
    "4. степень двойки\n",
    "5. FizzBuzz\n",
    "6. Динамические алгоритмы\n",
    "6. Жадные алгоритмы"
   ]
  },
  {
   "cell_type": "code",
   "execution_count": 21,
   "metadata": {},
   "outputs": [
    {
     "data": {
      "text/plain": [
       "lin_search (generic function with 1 method)"
      ]
     },
     "metadata": {},
     "output_type": "display_data"
    }
   ],
   "source": [
    "function lin_search(arr, elem)\n",
    "    n = length(arr)\n",
    "    for i = 1:n\n",
    "        if arr[i] == elem\n",
    "            return i\n",
    "        end\n",
    "    end\n",
    "    return -1\n",
    "end"
   ]
  },
  {
   "cell_type": "code",
   "execution_count": 22,
   "metadata": {},
   "outputs": [
    {
     "data": {
      "text/plain": [
       "binary_search (generic function with 1 method)"
      ]
     },
     "metadata": {},
     "output_type": "display_data"
    }
   ],
   "source": [
    "function binary_search(arr, key)\n",
    "    low, high = 1, length(arr)\n",
    "    while low <= high\n",
    "        mid = div(low + high, 2)\n",
    "\n",
    "        if arr[mid] == key\n",
    "            return mid\n",
    "        elseif arr[mid] < key\n",
    "            low = mid + 1\n",
    "        else\n",
    "            high = mid - 1\n",
    "        end\n",
    "    end\n",
    "    return -1\n",
    "end\n"
   ]
  },
  {
   "cell_type": "code",
   "execution_count": 30,
   "metadata": {},
   "outputs": [
    {
     "name": "stdout",
     "output_type": "stream",
     "text": [
      "9 - не степень двойки\n"
     ]
    }
   ],
   "source": [
    "function is_power_of_two(n)\n",
    "    return n > 0 && (n & (n - 1)) == 0\n",
    "end\n",
    "\n",
    "num = 9\n",
    "if is_power_of_two(num)\n",
    "    println(\"$num - степень двойки\")\n",
    "else\n",
    "    println(\"$num - не степень двойки\")\n",
    "end"
   ]
  },
  {
   "cell_type": "code",
   "execution_count": 31,
   "metadata": {},
   "outputs": [
    {
     "name": "stdout",
     "output_type": "stream",
     "text": [
      "1\n",
      "2\n",
      "Fizz\n",
      "4\n",
      "Buzz\n",
      "Fizz\n",
      "7\n",
      "8\n",
      "Fizz\n",
      "Buzz\n",
      "11\n",
      "Fizz\n",
      "13\n",
      "14\n",
      "FizzBuzz\n",
      "16\n",
      "17\n",
      "Fizz\n",
      "19\n",
      "Buzz\n"
     ]
    }
   ],
   "source": [
    "function fizzbuzz(n)\n",
    "    for i in 1:n\n",
    "        if i % 3 == 0 && i % 5 == 0\n",
    "            println(\"FizzBuzz\")\n",
    "        elseif i % 3 == 0\n",
    "            println(\"Fizz\")\n",
    "        elseif i % 5 == 0\n",
    "            println(\"Buzz\")\n",
    "        else\n",
    "            println(i)\n",
    "        end\n",
    "    end\n",
    "end\n",
    "\n",
    "fizzbuzz(20)"
   ]
  },
  {
   "cell_type": "code",
   "execution_count": 36,
   "metadata": {},
   "outputs": [
    {
     "name": "stdout",
     "output_type": "stream",
     "text": [
      "Выбранные предметы: "
     ]
    },
    {
     "name": "stdout",
     "output_type": "stream",
     "text": [
      "[2, 3, 4, 5]\n",
      "Общая ценность: 26\n"
     ]
    }
   ],
   "source": [
    "function knapsack(weights, values, capacity)\n",
    "    n = length(weights)\n",
    "    ratios = values ./ weights  # рассчитываем отношение ценности к весу\n",
    "    order = sortperm(ratios, rev=true)   # сортируем предметы по убыванию отношения\n",
    "    total_value = 0\n",
    "    knapsack = zeros(Bool, n) \n",
    "\n",
    "    for i in order\n",
    "        if weights[i] <= capacity\n",
    "            knapsack[i] = true\n",
    "            total_value += values[i]\n",
    "            capacity -= weights[i]\n",
    "        end\n",
    "    end\n",
    "\n",
    "    return knapsack, total_value\n",
    "end\n",
    "\n",
    "weights = [5, 3, 2, 1, 4]\n",
    "values = [10, 7, 5, 8, 6]\n",
    "capacity = 10\n",
    "knapsacked, total_value = knapsack(weights, values, capacity)\n",
    "println(\"Выбранные предметы: \", findall(knapsacked .== true))\n",
    "println(\"Общая ценность: \", total_value)"
   ]
  },
  {
   "cell_type": "code",
   "execution_count": 66,
   "metadata": {},
   "outputs": [
    {
     "data": {
      "text/plain": [
       "max_difference (generic function with 1 method)"
      ]
     },
     "metadata": {},
     "output_type": "display_data"
    }
   ],
   "source": [
    "function max_difference(arr)\n",
    "    min_val = arr[1]\n",
    "    max_diff = -Inf\n",
    "    \n",
    "    for i in 2:length(arr)\n",
    "        if abs(arr[i] - min_val) > max_diff\n",
    "            max_diff = abs(arr[i] - min_val)\n",
    "        end\n",
    "        if arr[i] < min_val\n",
    "            min_val = arr[i]\n",
    "        end\n",
    "    end\n",
    "    \n",
    "    return max_diff\n",
    "end\n"
   ]
  },
  {
   "cell_type": "code",
   "execution_count": 67,
   "metadata": {},
   "outputs": [
    {
     "name": "stdout",
     "output_type": "stream",
     "text": [
      "Длина наидлиннейшей возрастающей подпоследовательности: 6\n"
     ]
    }
   ],
   "source": [
    "function longest_increasing_subsequence(arr)\n",
    "    n = length(arr)\n",
    "    lis_lengths = ones(Int, n)\n",
    "\n",
    "    for i in 1:n\n",
    "        for j in 1:i\n",
    "            if arr[i] > arr[j]\n",
    "                lis_lengths[i] = max(lis_lengths[i], lis_lengths[j] + 1)\n",
    "            end\n",
    "        end\n",
    "    end\n",
    "\n",
    "    return maximum(lis_lengths)\n",
    "    \n",
    "end\n",
    "\n",
    "arr = [10, 22, 9, 33, 21, 50, 41, 60, 80]\n",
    "result = longest_increasing_subsequence(arr)\n",
    "println(\"Длина наидлиннейшей возрастающей подпоследовательности: \", result)"
   ]
  },
  {
   "cell_type": "code",
   "execution_count": 69,
   "metadata": {},
   "outputs": [
    {
     "name": "stdout",
     "output_type": "stream",
     "text": [
      "\u001b[0m\u001b[1mTest Summary: | \u001b[22m\u001b[32m\u001b[1mPass  \u001b[22m\u001b[39m\u001b[36m\u001b[1mTotal  \u001b[22m\u001b[39m\u001b[0m\u001b[1mTime\u001b[22m\n",
      "alg_tests     | \u001b[32m   2  \u001b[39m\u001b[36m    2  \u001b[39m\u001b[0m0.0s\n"
     ]
    },
    {
     "data": {
      "text/plain": [
       "Test.DefaultTestSet(\"alg_tests\", Any[], 2, false, false, true, 1.705934246659591e9, 1.705934246659943e9, false)"
      ]
     },
     "metadata": {},
     "output_type": "display_data"
    }
   ],
   "source": [
    "using Test\n",
    "\n",
    "@testset \"alg_tests\" begin\n",
    "    arr, q = [1, 4, 9], 4\n",
    "    @test lin_search(arr, q) == 2\n",
    "\n",
    "    arr, key = [1, 3, 5, 7, 9, 11, 13, 15, 17, 19], 15\n",
    "    @test binary_search(arr, key) == 8\n",
    "    \n",
    "end"
   ]
  }
 ],
 "metadata": {
  "kernelspec": {
   "display_name": "Julia 1.9.4",
   "language": "julia",
   "name": "julia-1.9"
  },
  "language_info": {
   "file_extension": ".jl",
   "mimetype": "application/julia",
   "name": "julia",
   "version": "1.9.4"
  },
  "orig_nbformat": 4,
  "vscode": {
   "interpreter": {
    "hash": "31f2aee4e71d21fbe5cf8b01ff0e069b9275f58929596ceb00d14d90e3e16cd6"
   }
  }
 },
 "nbformat": 4,
 "nbformat_minor": 2
}
