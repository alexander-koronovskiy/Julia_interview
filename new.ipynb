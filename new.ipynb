{
 "cells": [
  {
   "cell_type": "code",
   "execution_count": 2,
   "metadata": {},
   "outputs": [
    {
     "data": {
      "text/plain": [
       "find_non_convertible_indices (generic function with 2 methods)"
      ]
     },
     "metadata": {},
     "output_type": "display_data"
    }
   ],
   "source": [
    "# найти координаты всех не конвертируемых в числа элементы в сложной структуре\n",
    "\n",
    "function find_non_convertible_indices(arr, current_index=[])\n",
    "    non_convertible_indices = []\n",
    "    for (i, elem) in enumerate(arr)\n",
    "        new_index = copy(current_index)  # Создаем копию индекса текущего элемента\n",
    "        push!(new_index, i)  # Добавляем индекс текущего элемента в индексную структуру\n",
    "        if isa(elem, Number)  # Проверяем, является ли элемент числом\n",
    "            try\n",
    "                parse(Float64, string(elem))  # Пытаемся сконвертировать элемент в Float64\n",
    "            catch\n",
    "                push!(non_convertible_indices, new_index)  # Если не удается сконвертировать, добавляем индексы в список\n",
    "            end\n",
    "        elseif isa(elem, AbstractArray)  # Если элемент является массивом, рекурсивно вызываем функцию для него\n",
    "            non_convertible_indices = vcat(non_convertible_indices, find_non_convertible_indices(elem, new_index))\n",
    "        else\n",
    "            try\n",
    "                parse(Float64, string(elem))  # Пытаемся сконвертировать элемент в Float64\n",
    "            catch\n",
    "                push!(non_convertible_indices, new_index)  # Если не удается сконвертировать, добавляем индексы в список\n",
    "            end\n",
    "        end\n",
    "    end\n",
    "    return non_convertible_indices\n",
    "end\n"
   ]
  },
  {
   "cell_type": "code",
   "execution_count": 3,
   "metadata": {},
   "outputs": [
    {
     "name": "stdout",
     "output_type": "stream",
     "text": [
      "true\n",
      "true\n"
     ]
    },
    {
     "name": "stdout",
     "output_type": "stream",
     "text": [
      "true\n"
     ]
    },
    {
     "name": "stdout",
     "output_type": "stream",
     "text": [
      "Any[Any[1], Any[2, 2]]\n"
     ]
    }
   ],
   "source": [
    "# во вложенной структуре посчитать сумму всех элементов \n",
    "# которые можно конвертировать int float\n",
    "\n",
    "function recursive_sum(arr)\n",
    "    total = 0\n",
    "    for elem in arr\n",
    "        if isa(elem, Array) || isa(elem, Tuple)\n",
    "            total += recursive_sum(elem)\n",
    "        else\n",
    "            try\n",
    "                num = parse(Int, string(elem))\n",
    "                total += num\n",
    "                continue\n",
    "            catch err\n",
    "            end\n",
    "            try\n",
    "                num = parse(Float64, string(elem))\n",
    "                total += num\n",
    "            catch err\n",
    "            end\n",
    "        end\n",
    "    end\n",
    "    return total\n",
    "end\n",
    "\n",
    "\n",
    "# Пример использования\n",
    "nested_array_1 = 1, 2, 3, 4, 5\n",
    "nested_array_2 = 1, 2, 3.0, 4, \"5\"\n",
    "nested_array_3 = (1, 2, 3.0), [4, \"5\"]\n",
    "nested_array_4 = (1, 2, \"abcde\"), [4, \"fijk\"]\n",
    "\n",
    "println(recursive_sum(nested_array_1)== 15)\n",
    "println(recursive_sum(nested_array_2)== 15.0)\n",
    "println(recursive_sum(nested_array_3)== 15.0)\n",
    "# println(recursive_sum(nested_array_4)==[[1, 3], [2, 2]])\n",
    "println(find_non_convertible_indices(nested_array_4))\n"
   ]
  }
 ],
 "metadata": {
  "kernelspec": {
   "display_name": "Julia 1.9.4",
   "language": "julia",
   "name": "julia-1.9"
  },
  "language_info": {
   "file_extension": ".jl",
   "mimetype": "application/julia",
   "name": "julia",
   "version": "1.9.4"
  },
  "orig_nbformat": 4
 },
 "nbformat": 4,
 "nbformat_minor": 2
}
