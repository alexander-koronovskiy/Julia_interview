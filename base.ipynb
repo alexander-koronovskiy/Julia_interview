{
 "cells": [
  {
   "cell_type": "markdown",
   "metadata": {},
   "source": [
    "Здесь короче работа с базовыми штуками типа функций и словарей"
   ]
  },
  {
   "cell_type": "markdown",
   "metadata": {},
   "source": [
    "Че тут есть:\n",
    "1. функция для выводов квадратов числа\n",
    "2. факториал числа\n",
    "3. фибоначчи\n",
    "4. палиндром\n",
    "5. реализация очереди\n",
    "6. НОД"
   ]
  },
  {
   "cell_type": "code",
   "execution_count": 10,
   "metadata": {},
   "outputs": [
    {
     "data": {
      "text/plain": [
       "squares (generic function with 1 method)"
      ]
     },
     "metadata": {},
     "output_type": "display_data"
    }
   ],
   "source": [
    "# base func\n",
    "\n",
    "f(x, y) = x + y\n",
    "\n",
    "function squares(n)\n",
    "    for i = 1:n\n",
    "        println(i^2)\n",
    "    end\n",
    "end\n"
   ]
  },
  {
   "cell_type": "code",
   "execution_count": 11,
   "metadata": {},
   "outputs": [
    {
     "name": "stdout",
     "output_type": "stream",
     "text": [
      "3628800"
     ]
    }
   ],
   "source": [
    "# fac\n",
    "\n",
    "function quick_factorial(n)\n",
    "    fact = 1\n",
    "    for num in range(n)\n",
    "        fact = fact*num\n",
    "    end\n",
    "    return fact \n",
    "end\n",
    "\n",
    "function fac(n)\n",
    "    if n == 0 return 1\n",
    "    else n*fac(n-1) end\n",
    "end\n",
    "\n",
    "function fac_doc(n::Int)\n",
    "    n >= 0 || error(\"n must be non-negative\")\n",
    "    n == 0 && return 1\n",
    "    n * fac_doc(n-1)\n",
    "end\n",
    "\n",
    "# print(squares(10));\n",
    "print(fac(10))"
   ]
  },
  {
   "cell_type": "code",
   "execution_count": 12,
   "metadata": {},
   "outputs": [
    {
     "name": "stdout",
     "output_type": "stream",
     "text": [
      "5\n"
     ]
    }
   ],
   "source": [
    "# fib\n",
    "\n",
    "fib_lib(n::Integer) = n ≤ 2 ? one(n) : fib(n-1) + fib(n-2)\n",
    "\n",
    "function fib_fast(n::Integer)::Integer\n",
    "    a, b = 0, 1\n",
    "    for _ = 1:n\n",
    "        a, b = b, a + b\n",
    "    end\n",
    "    return a\n",
    "end\n",
    "\n",
    "println(fib_fast(5))\n"
   ]
  },
  {
   "cell_type": "code",
   "execution_count": 13,
   "metadata": {},
   "outputs": [
    {
     "data": {
      "text/plain": [
       "3-element Vector{Int64}:\n",
       " 4\n",
       " 6\n",
       " 8"
      ]
     },
     "metadata": {},
     "output_type": "display_data"
    }
   ],
   "source": [
    "# anonymys func\n",
    "\n",
    "d = map(x -> x^2, 1:7)\n",
    "(a,b,c) = 1:3\n",
    "evens = [x for x in 1:10 if x % 2 == 0]\n",
    "evens[2:4]"
   ]
  },
  {
   "cell_type": "code",
   "execution_count": 14,
   "metadata": {},
   "outputs": [
    {
     "name": "stdout",
     "output_type": "stream",
     "text": [
      "[9, 7, 4, 3, 1]\n",
      "true\n"
     ]
    }
   ],
   "source": [
    "# sorts base\n",
    "\n",
    "function ispallindrome(s)\n",
    "    return s == reverse(s)\n",
    "end\n",
    "\n",
    "nums = [4, 7, 1, 9, 3]\n",
    "println(sort!(nums, rev = true))\n",
    "println(ispallindrome(\"radar\"))"
   ]
  },
  {
   "cell_type": "code",
   "execution_count": 15,
   "metadata": {},
   "outputs": [
    {
     "data": {
      "text/plain": [
       "123"
      ]
     },
     "metadata": {},
     "output_type": "display_data"
    }
   ],
   "source": [
    "str = \"123\"\n",
    "num = parse(Int, str) # Преобразование строки в целое число"
   ]
  },
  {
   "cell_type": "code",
   "execution_count": 3,
   "metadata": {},
   "outputs": [
    {
     "name": "stdout",
     "output_type": "stream",
     "text": [
      "12\n"
     ]
    }
   ],
   "source": [
    "function gcd(a, b)\n",
    "    while b != 0\n",
    "        a, b = b, mod(a, b)\n",
    "    end\n",
    "    return a\n",
    "end\n",
    "\n",
    "println(gcd(24, 36))"
   ]
  },
  {
   "cell_type": "code",
   "execution_count": 16,
   "metadata": {},
   "outputs": [
    {
     "data": {
      "text/plain": [
       "peek (generic function with 1 method)"
      ]
     },
     "metadata": {},
     "output_type": "display_data"
    }
   ],
   "source": [
    "# Определим структуру Queue и функции для работы с ней\n",
    "\n",
    "struct Queue{T}\n",
    "    data::Vector{T}\n",
    "end\n",
    "\n",
    "# Создадим пустую очередь\n",
    "function Queue{T}() where T\n",
    "    return Queue{T}(T[])\n",
    "end\n",
    "\n",
    "# Добавим элементы в очередь\n",
    "function enqueue(q::Queue, item)\n",
    "    push!(q.data, item)\n",
    "end\n",
    "\n",
    "# Удалим и вернем элемент из начала очереди\n",
    "function dequeue(q::Queue{T}) where T\n",
    "    if isempty(q.data)\n",
    "        throw(ArgumentError(\"Queue is empty\"))\n",
    "    end\n",
    "    return shift!(q.data)\n",
    "end\n",
    "\n",
    "# Проверим, пуста ли очередь\n",
    "function is_empty(q::Queue)\n",
    "    return isempty(q.data)\n",
    "end\n",
    "\n",
    "# Возвратим элемент из начала очереди без его удаления\n",
    "function peek(q::Queue{T}) where T\n",
    "    if isempty(q.data)\n",
    "        throw(ArgumentError(\"Queue is empty\"))\n",
    "    end\n",
    "    return q.data[1]\n",
    "end\n",
    "\n",
    "\n",
    "# # Используем эти функции для работы с очередью\n",
    "# q = Queue{Int}()\n",
    "\n",
    "# # Добавим элементы в очередь\n",
    "# enqueue(q, 1)\n",
    "# enqueue(q, 2)\n",
    "# enqueue(q, 3)\n"
   ]
  },
  {
   "cell_type": "code",
   "execution_count": 17,
   "metadata": {},
   "outputs": [
    {
     "name": "stdout",
     "output_type": "stream",
     "text": [
      "Queue tests: \u001b[91m\u001b[1mError During Test\u001b[22m\u001b[39m at \u001b[39m\u001b[1m/Users/aleksandrkoronovskij/ssd_projects/JuliaProject/base.ipynb:3\u001b[22m\n",
      "  Got exception outside of a @test\n",
      "  UndefVarError: `enqueue!` not defined\n",
      "  Stacktrace:\n",
      "    [1] \u001b[0m\u001b[1mmacro expansion\u001b[22m\n",
      "  \u001b[90m    @\u001b[39m \u001b[90m~/ssd_projects/JuliaProject/\u001b[39m\u001b[90m\u001b[4mbase.ipynb:8\u001b[24m\u001b[39m\u001b[90m [inlined]\u001b[39m\n",
      "    [2] \u001b[0m\u001b[1mmacro expansion\u001b[22m\n",
      "  \u001b[90m    @\u001b[39m \u001b[90m/opt/homebrew/Cellar/julia/1.9.4/share/julia/stdlib/v1.9/Test/src/\u001b[39m\u001b[90m\u001b[4mTest.jl:1498\u001b[24m\u001b[39m\u001b[90m [inlined]\u001b[39m\n",
      "    [3] top-level scope\n",
      "  \u001b[90m    @\u001b[39m \u001b[90m~/ssd_projects/JuliaProject/\u001b[39m\u001b[90m\u001b[4mbase.ipynb:4\u001b[24m\u001b[39m\n",
      "    [4] \u001b[0m\u001b[1meval\u001b[22m\n",
      "  \u001b[90m    @\u001b[39m \u001b[90m./\u001b[39m\u001b[90m\u001b[4mboot.jl:370\u001b[24m\u001b[39m\u001b[90m [inlined]\u001b[39m\n",
      "    [5] \u001b[0m\u001b[1minclude_string\u001b[22m\u001b[0m\u001b[1m(\u001b[22m\u001b[90mmapexpr\u001b[39m::\u001b[0mtypeof(REPL.softscope), \u001b[90mmod\u001b[39m::\u001b[0mModule, \u001b[90mcode\u001b[39m::\u001b[0mString, \u001b[90mfilename\u001b[39m::\u001b[0mString\u001b[0m\u001b[1m)\u001b[22m\n",
      "  \u001b[90m    @\u001b[39m \u001b[90mBase\u001b[39m \u001b[90m./\u001b[39m\u001b[90m\u001b[4mloading.jl:1903\u001b[24m\u001b[39m\n",
      "    [6] \u001b[0m\u001b[1m#invokelatest#2\u001b[22m\n",
      "  \u001b[90m    @\u001b[39m \u001b[90m./\u001b[39m\u001b[90m\u001b[4messentials.jl:819\u001b[24m\u001b[39m\u001b[90m [inlined]\u001b[39m\n",
      "    [7] \u001b[0m\u001b[1minvokelatest\u001b[22m\n",
      "  \u001b[90m    @\u001b[39m \u001b[90m./\u001b[39m\u001b[90m\u001b[4messentials.jl:816\u001b[24m\u001b[39m\u001b[90m [inlined]\u001b[39m\n",
      "    [8] \u001b[0m\u001b[1m(::VSCodeServer.var\"#198#199\"{VSCodeServer.NotebookRunCellArguments, String})\u001b[22m\u001b[0m\u001b[1m(\u001b[22m\u001b[0m\u001b[1m)\u001b[22m\n",
      "  \u001b[90m    @\u001b[39m \u001b[35mVSCodeServer\u001b[39m \u001b[90m~/.vscode/extensions/julialang.language-julia-1.47.2/scripts/packages/VSCodeServer/src/\u001b[39m\u001b[90m\u001b[4mserve_notebook.jl:19\u001b[24m\u001b[39m\n",
      "    [9] \u001b[0m\u001b[1mwithpath\u001b[22m\u001b[0m\u001b[1m(\u001b[22m\u001b[90mf\u001b[39m::\u001b[0mVSCodeServer.var\"#198#199\"\u001b[90m{VSCodeServer.NotebookRunCellArguments, String}\u001b[39m, \u001b[90mpath\u001b[39m::\u001b[0mString\u001b[0m\u001b[1m)\u001b[22m\n",
      "  \u001b[90m    @\u001b[39m \u001b[35mVSCodeServer\u001b[39m \u001b[90m~/.vscode/extensions/julialang.language-julia-1.47.2/scripts/packages/VSCodeServer/src/\u001b[39m\u001b[90m\u001b[4mrepl.jl:249\u001b[24m\u001b[39m\n",
      "   [10] \u001b[0m\u001b[1mnotebook_runcell_request\u001b[22m\u001b[0m\u001b[1m(\u001b[22m\u001b[90mconn\u001b[39m::\u001b[0mVSCodeServer.JSONRPC.JSONRPCEndpoint\u001b[90m{Base.PipeEndpoint, Base.PipeEndpoint}\u001b[39m, \u001b[90mparams\u001b[39m::\u001b[0mVSCodeServer.NotebookRunCellArguments\u001b[0m\u001b[1m)\u001b[22m\n",
      "  \u001b[90m    @\u001b[39m \u001b[35mVSCodeServer\u001b[39m \u001b[90m~/.vscode/extensions/julialang.language-julia-1.47.2/scripts/packages/VSCodeServer/src/\u001b[39m\u001b[90m\u001b[4mserve_notebook.jl:13\u001b[24m\u001b[39m\n",
      "   [11] \u001b[0m\u001b[1mdispatch_msg\u001b[22m\u001b[0m\u001b[1m(\u001b[22m\u001b[90mx\u001b[39m::\u001b[0mVSCodeServer.JSONRPC.JSONRPCEndpoint\u001b[90m{Base.PipeEndpoint, Base.PipeEndpoint}\u001b[39m, \u001b[90mdispatcher\u001b[39m::\u001b[0mVSCodeServer.JSONRPC.MsgDispatcher, \u001b[90mmsg\u001b[39m::\u001b[0mDict\u001b[90m{String, Any}\u001b[39m\u001b[0m\u001b[1m)\u001b[22m\n",
      "  \u001b[90m    @\u001b[39m \u001b[35mVSCodeServer.JSONRPC\u001b[39m \u001b[90m~/.vscode/extensions/julialang.language-julia-1.47.2/scripts/packages/JSONRPC/src/\u001b[39m\u001b[90m\u001b[4mtyped.jl:67\u001b[24m\u001b[39m\n",
      "   [12] \u001b[0m\u001b[1mserve_notebook\u001b[22m\u001b[0m\u001b[1m(\u001b[22m\u001b[90mpipename\u001b[39m::\u001b[0mString, \u001b[90moutputchannel_logger\u001b[39m::\u001b[0mBase.CoreLogging.SimpleLogger; \u001b[90mcrashreporting_pipename\u001b[39m::\u001b[0mString\u001b[0m\u001b[1m)\u001b[22m\n",
      "  \u001b[90m    @\u001b[39m \u001b[35mVSCodeServer\u001b[39m \u001b[90m~/.vscode/extensions/julialang.language-julia-1.47.2/scripts/packages/VSCodeServer/src/\u001b[39m\u001b[90m\u001b[4mserve_notebook.jl:139\u001b[24m\u001b[39m\n",
      "   [13] top-level scope\n",
      "  \u001b[90m    @\u001b[39m \u001b[90m~/.vscode/extensions/julialang.language-julia-1.47.2/scripts/notebook/\u001b[39m\u001b[90m\u001b[4mnotebook.jl:32\u001b[24m\u001b[39m\n",
      "   [14] \u001b[0m\u001b[1minclude\u001b[22m\u001b[0m\u001b[1m(\u001b[22m\u001b[90mmod\u001b[39m::\u001b[0mModule, \u001b[90m_path\u001b[39m::\u001b[0mString\u001b[0m\u001b[1m)\u001b[22m\n",
      "  \u001b[90m    @\u001b[39m \u001b[90mBase\u001b[39m \u001b[90m./\u001b[39m\u001b[90m\u001b[4mBase.jl:457\u001b[24m\u001b[39m\n",
      "   [15] \u001b[0m\u001b[1mexec_options\u001b[22m\u001b[0m\u001b[1m(\u001b[22m\u001b[90mopts\u001b[39m::\u001b[0mBase.JLOptions\u001b[0m\u001b[1m)\u001b[22m\n",
      "  \u001b[90m    @\u001b[39m \u001b[90mBase\u001b[39m \u001b[90m./\u001b[39m\u001b[90m\u001b[4mclient.jl:307\u001b[24m\u001b[39m\n",
      "   [16] \u001b[0m\u001b[1m_start\u001b[22m\u001b[0m\u001b[1m(\u001b[22m\u001b[0m\u001b[1m)\u001b[22m\n",
      "  \u001b[90m    @\u001b[39m \u001b[90mBase\u001b[39m \u001b[90m./\u001b[39m\u001b[90m\u001b[4mclient.jl:522\u001b[24m\u001b[39m\n",
      "\u001b[0m\u001b[1mTest Summary: | \u001b[22m\u001b[32m\u001b[1mPass  \u001b[22m\u001b[39m\u001b[91m\u001b[1mError  \u001b[22m\u001b[39m\u001b[36m\u001b[1mTotal  \u001b[22m\u001b[39m\u001b[0m\u001b[1mTime\u001b[22m\n",
      "Queue tests   | \u001b[32m   1  \u001b[39m\u001b[91m    1  \u001b[39m\u001b[36m    2  \u001b[39m\u001b[0m0.0s\n"
     ]
    },
    {
     "ename": "TestSetException",
     "evalue": "Some tests did not pass: 1 passed, 0 failed, 1 errored, 0 broken.",
     "output_type": "error",
     "traceback": [
      "Some tests did not pass: 1 passed, 0 failed, 1 errored, 0 broken.\n",
      "\n",
      "Stacktrace:\n",
      " [1] finish(ts::Test.DefaultTestSet)\n",
      "   @ Test /opt/homebrew/Cellar/julia/1.9.4/share/julia/stdlib/v1.9/Test/src/Test.jl:1151\n",
      " [2] macro expansion\n",
      "   @ /opt/homebrew/Cellar/julia/1.9.4/share/julia/stdlib/v1.9/Test/src/Test.jl:1514 [inlined]\n",
      " [3] top-level scope\n",
      "   @ ~/ssd_projects/JuliaProject/base.ipynb:4"
     ]
    }
   ],
   "source": [
    "using Test\n",
    "\n",
    "@testset \"Queue tests\" begin\n",
    "    q = Queue{Int}([])\n",
    "\n",
    "    @test is_empty(q)\n",
    "\n",
    "    enqueue!(q, 1)\n",
    "    enqueue!(q, 2)\n",
    "    enqueue!(q, 3)\n",
    "\n",
    "    @test !is_empty(q)\n",
    "    \n",
    "    item = dequeue!(q)\n",
    "    @test item == 1\n",
    "    @test !is_empty(q)\n",
    "\n",
    "    item = dequeue!(q)\n",
    "    @test item == 2\n",
    "    @test !is_empty(q)\n",
    "\n",
    "    item = dequeue!(q)\n",
    "    @test item == 3\n",
    "    @test is_empty(q)\n",
    "end\n"
   ]
  }
 ],
 "metadata": {
  "kernelspec": {
   "display_name": "Julia 1.9.4",
   "language": "julia",
   "name": "julia-1.9"
  },
  "language_info": {
   "file_extension": ".jl",
   "mimetype": "application/julia",
   "name": "julia",
   "version": "1.9.4"
  },
  "orig_nbformat": 4
 },
 "nbformat": 4,
 "nbformat_minor": 2
}
